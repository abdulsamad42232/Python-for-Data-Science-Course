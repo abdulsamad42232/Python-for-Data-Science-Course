{
 "cells": [
  {
   "cell_type": "markdown",
   "id": "d8d16ae6",
   "metadata": {},
   "source": [
    "### 1. Write a program that prompts the user to input a number and display if the number is even or odd."
   ]
  },
  {
   "cell_type": "code",
   "execution_count": 2,
   "id": "f48a8ed5",
   "metadata": {},
   "outputs": [
    {
     "name": "stdout",
     "output_type": "stream",
     "text": [
      "Enter Any Number: 10\n",
      "The Number Is Even\n"
     ]
    }
   ],
   "source": [
    "num = int(input(\"Enter Any Number: \"))\n",
    "if num%2==0:\n",
    "    print(\"The Number Is Even\")\n",
    "else:\n",
    "    print(\"The Number is odd\")"
   ]
  },
  {
   "cell_type": "markdown",
   "id": "d8e98e0d",
   "metadata": {},
   "source": [
    "###  2. Write a Python program that takes an age as input and determines whether a person is eligible to vote. If the age is 18 or above, print \"You are eligible to vote.\" Otherwise, print \"You are not eligible to vote yet.\". "
   ]
  },
  {
   "cell_type": "code",
   "execution_count": 4,
   "id": "0ca52b2c",
   "metadata": {},
   "outputs": [
    {
     "name": "stdout",
     "output_type": "stream",
     "text": [
      "Enter Your Age19\n",
      "You are eligible for vote\n"
     ]
    }
   ],
   "source": [
    "age = int(input(\"Enter Your Age\"))\n",
    "if age<=17:\n",
    "    print(\"You are not eligible for vote\")\n",
    "else:\n",
    "    print(\"You are eligible for vote\")"
   ]
  },
  {
   "cell_type": "markdown",
   "id": "02d49caa",
   "metadata": {},
   "source": [
    "### 3. Write a program that prompts the user to input two integers and outputs the largest. "
   ]
  },
  {
   "cell_type": "code",
   "execution_count": 8,
   "id": "ba80b1b7",
   "metadata": {},
   "outputs": [
    {
     "name": "stdout",
     "output_type": "stream",
     "text": [
      "Enter any number7\n",
      "Enter any number7\n",
      "both are equal\n"
     ]
    }
   ],
   "source": [
    "num1 = int(input(\"Enter any number\"))\n",
    "num2 = int(input(\"Enter any number\"))\n",
    "if num1>num2:\n",
    "    print(f\"{num1} is greater tha {num2}\")\n",
    "elif num2>num1:\n",
    "    print(f\"{num2} is greater tha {num1}\")\n",
    "else:\n",
    "    print(\"both are equal\")"
   ]
  },
  {
   "cell_type": "markdown",
   "id": "75260a34",
   "metadata": {},
   "source": [
    "### 4. Write a program that prompts the user to enter a number and determines whether it is positive, negative, or zero. The program should print \"Positive\" if the number is greater than 0, \"Negative\" if the number is less than 0, and \"Zero\" if the number is 0. "
   ]
  },
  {
   "cell_type": "code",
   "execution_count": 11,
   "id": "3b968083",
   "metadata": {},
   "outputs": [
    {
     "name": "stdout",
     "output_type": "stream",
     "text": [
      "Enter any number: 0\n",
      "0 is Positive\n"
     ]
    }
   ],
   "source": [
    "num = int(input(\"Enter any number: \"))\n",
    "if num<0:\n",
    "    print(f\"{num} is Negative\")\n",
    "elif num>=0:\n",
    "    print(f\"{num} is Positive\")\n",
    "else:\n",
    "    print(\"Error!\")\n",
    "    \n",
    "    "
   ]
  },
  {
   "cell_type": "markdown",
   "id": "c7fe29f6",
   "metadata": {},
   "source": [
    "### 5. Write a program that prompts the user to enter their age and prints the corresponding age group. The program should use the following age groups: 0-12: Child 13-19: Teenager 20-59: Adult 60 and above: Senior Citizen"
   ]
  },
  {
   "cell_type": "code",
   "execution_count": 8,
   "id": "55682252",
   "metadata": {},
   "outputs": [
    {
     "name": "stdout",
     "output_type": "stream",
     "text": [
      "Enter Your Age:0\n",
      "You Are Child\n"
     ]
    }
   ],
   "source": [
    "age=int(input(\"Enter Your Age:\"))\n",
    "if age>=60:\n",
    "    print(\"You are Senoir Citizen\")\n",
    "elif age>=20 and age<60:\n",
    "    print(\"Your are an Adult\")\n",
    "elif age>=13 and age<20:\n",
    "    print(\"Your are a teenager\")\n",
    "else:\n",
    "    print(\"You Are Child\")"
   ]
  },
  {
   "cell_type": "markdown",
   "id": "34995372",
   "metadata": {},
   "source": [
    "### 6. Write a program that prompts the user to input a number from 1 to 7. The program should display the corresponding day for the given number. For example, if the user types 1, the output should be Sunday. If the user types 7, the output should be Saturday. If the number is not between 1 to 7 user should get error message as shown in sample output. "
   ]
  },
  {
   "cell_type": "code",
   "execution_count": 18,
   "id": "d302e246",
   "metadata": {},
   "outputs": [
    {
     "name": "stdout",
     "output_type": "stream",
     "text": [
      "Enter Any from 1 to 7 Number or press 0 to exit:1\n",
      "Sunday\n",
      "Enter Any from 1 to 7 Number or press 0 to exit:2\n",
      "Monday\n",
      "Enter Any from 1 to 7 Number or press 0 to exit:3\n",
      "Tuesday\n",
      "Enter Any from 1 to 7 Number or press 0 to exit:4\n",
      "Wednesday\n",
      "Enter Any from 1 to 7 Number or press 0 to exit:5\n",
      "Thursday\n",
      "Enter Any from 1 to 7 Number or press 0 to exit:6\n",
      "Friday\n",
      "Enter Any from 1 to 7 Number or press 0 to exit:7\n",
      "Saturday\n",
      "Enter Any from 1 to 7 Number or press 0 to exit:8\n",
      "exit\n"
     ]
    }
   ],
   "source": [
    "days=['Sunday','Monday','Tuesday','Wednesday','Thursday','Friday','Saturday']\n",
    "while True:\n",
    "    num=int(input(\"Enter Any from 1 to 7 Number or press 0 to exit:\"))\n",
    "    if num!=0 and num>0 and num<8 :\n",
    "        print(days[num-1])\n",
    "    else:\n",
    "        print(\"exit\")\n",
    "        break\n",
    "    "
   ]
  },
  {
   "cell_type": "markdown",
   "id": "8724a279",
   "metadata": {},
   "source": [
    "### 7. Write a program that prompts the user to enter their weight (in kilograms) and height (in meters). The program should calculate the Body Mass Index (BMI) using the formula: BMI = weight / (height * height). The program should then classify the BMI into one of the following categories: \n",
    "### less than 18.5 - Underweight\n",
    "### BMI between 18.5 and 24.9 - Normal weight\n",
    "### BMI between 25 and 29.9 - Overweight\n",
    "### BMI 30 or greater - Obesity"
   ]
  },
  {
   "cell_type": "code",
   "execution_count": 22,
   "id": "cdeacb06",
   "metadata": {},
   "outputs": [
    {
     "name": "stdout",
     "output_type": "stream",
     "text": [
      "Enter Your Weight In kilogram:80\n",
      "Enter Your Height in meters:1\n",
      "BMI is  80.0\n",
      "Obesity\n"
     ]
    }
   ],
   "source": [
    "weight = float(input(\"Enter Your Weight In kilogram:\"))\n",
    "height = float(input(\"Enter Your Height in meters:\" ))\n",
    "BMI = weight/(height**2)\n",
    "print(\"BMI is \",BMI)\n",
    "if BMI<18.5:\n",
    "    print(\"Underweight\")\n",
    "elif BMI>=18.5 and BMI<=24.9:\n",
    "    print(\"Normal Weight\")\n",
    "elif BMI>=25 and BMI<=29.9:\n",
    "    print(\"Over Weight\")\n",
    "elif BMI>=30:\n",
    "    print(\"Obesity\")    \n",
    "else:\n",
    "    print(\"Error\")"
   ]
  },
  {
   "cell_type": "markdown",
   "id": "045bda1f",
   "metadata": {},
   "source": [
    "### 8. The marks obtained by a student in 3 different subjects are input by the user. Your program should calculate the average of subjects and display the grade. The student gets a grade as per the following rules: Average Grade 90-100 A   80-89 B 70-79 C 60-69 D 0-59 F \n"
   ]
  },
  {
   "cell_type": "code",
   "execution_count": 28,
   "id": "c125d9a5",
   "metadata": {},
   "outputs": [
    {
     "name": "stdout",
     "output_type": "stream",
     "text": [
      "Enter your marks:60\n",
      "D\n"
     ]
    }
   ],
   "source": [
    "\n",
    "marks = int(input(\"Enter your marks:\"))\n",
    "if marks>=90 and marks <= 100:\n",
    "    print(\"A\")\n",
    "elif (marks >= 80 and marks < 90):\n",
    "    print(\"B\")\n",
    "elif (marks >= 70 and marks < 80):\n",
    "    print(\"C\")\n",
    "elif (marks >= 60 and marks < 70):\n",
    "    print(\"D\")\n",
    "else:\n",
    "    print(\"Fail\")\n"
   ]
  },
  {
   "cell_type": "markdown",
   "id": "2bd4b170",
   "metadata": {},
   "source": [
    "### 9. The roots of the quadratic equation ax2 + bx + c = 0, a ≠ 0 are given by the following\n",
    "### formula:\n",
    "### In this formula, the term b2- 4ac is called the discriminant. If b2- 4ac = 0, then the\n",
    "### equation has two equal roots.\n",
    "### If b2- 4ac > 0, the equation has two real roots. If b2- 4ac < 0, the equation has two complex roots.\n",
    "### Write a program that prompts the user to input the value of a (the coefficient of x2), b\n",
    "### (the coefficient of x), and c (the constant term) and outputs the roots of the quadratic equation. \n"
   ]
  },
  {
   "cell_type": "code",
   "execution_count": 38,
   "id": "155c7fe4",
   "metadata": {},
   "outputs": [
    {
     "name": "stdout",
     "output_type": "stream",
     "text": [
      "Enter the value of a:1\n",
      "Enter the value of b:2\n",
      "Enter the value of c:1\n",
      "Enter Equation has Equal roots\n"
     ]
    }
   ],
   "source": [
    "a = int(input(\"Enter the value of a:\"))\n",
    "b = int(input(\"Enter the value of b:\"))\n",
    "c = int(input(\"Enter the value of c:\"))\n",
    "disc=(b**2)-(4*a*c)\n",
    "if disc>0:\n",
    "    print(\"Enter Equation has real roots\")\n",
    "elif disc<0:\n",
    "    print(\"Enter Equation has complex roots\")\n",
    "elif disc==0:\n",
    "    print(\"Enter Equation has Equal roots\")\n",
    "else:\n",
    "    print(\"Error!\")"
   ]
  },
  {
   "cell_type": "markdown",
   "id": "0910d449",
   "metadata": {},
   "source": [
    "### 10. Write a program that prompts the user to enter three numbers and sorts them in ascending order. The program should print the sorted numbers. "
   ]
  },
  {
   "cell_type": "code",
   "execution_count": 3,
   "id": "39ca15ff",
   "metadata": {},
   "outputs": [
    {
     "name": "stdout",
     "output_type": "stream",
     "text": [
      "Enter 1st Number: 4\n",
      "Enter 2nd Number: 5\n",
      "Enter 3rd Number: 6\n"
     ]
    },
    {
     "ename": "TypeError",
     "evalue": "'builtin_function_or_method' object is not subscriptable",
     "output_type": "error",
     "traceback": [
      "\u001b[1;31m---------------------------------------------------------------------------\u001b[0m",
      "\u001b[1;31mTypeError\u001b[0m                                 Traceback (most recent call last)",
      "Cell \u001b[1;32mIn[3], line 7\u001b[0m\n\u001b[0;32m      5\u001b[0m     \u001b[38;5;28mprint\u001b[39m(\u001b[38;5;124m\"\u001b[39m\u001b[38;5;124mAll Are Equal\u001b[39m\u001b[38;5;124m\"\u001b[39m)\n\u001b[0;32m      6\u001b[0m \u001b[38;5;28;01melse\u001b[39;00m:\n\u001b[1;32m----> 7\u001b[0m     small\u001b[38;5;241m=\u001b[39m\u001b[38;5;28mmin\u001b[39m[num1,num2,num3]\n\u001b[0;32m      8\u001b[0m     big\u001b[38;5;241m=\u001b[39m \u001b[38;5;28mmax\u001b[39m[num1,num2,num3]\n\u001b[0;32m      9\u001b[0m     mid\u001b[38;5;241m=\u001b[39m[num1,num2,num3]\u001b[38;5;241m-\u001b[39msmall\u001b[38;5;241m-\u001b[39mbig\n",
      "\u001b[1;31mTypeError\u001b[0m: 'builtin_function_or_method' object is not subscriptable"
     ]
    }
   ],
   "source": [
    "num1 = int(input(\"Enter 1st Number: \"))\n",
    "num2 = int(input(\"Enter 2nd Number: \"))\n",
    "num3 = int(input(\"Enter 3rd Number: \"))\n",
    "if num1==num2==num3:\n",
    "    print(\"All Are Equal\")\n",
    "else:\n",
    "    small=min[num1,num2,num3]\n",
    "    big= max[num1,num2,num3]\n",
    "    mid=[num1,num2,num3]-small-big\n",
    "    print(f\"{big},{small},{mid}\")"
   ]
  },
  {
   "cell_type": "markdown",
   "id": "4f7456a1",
   "metadata": {},
   "source": [
    "### 11. Write a program that prompts the user to input three integers and outputs the largest. \n"
   ]
  },
  {
   "cell_type": "code",
   "execution_count": 9,
   "id": "ad7e2a3b",
   "metadata": {},
   "outputs": [
    {
     "name": "stdout",
     "output_type": "stream",
     "text": [
      "Enter The First Number: 5\n",
      "Enter The Second Number: 4\n",
      "Enter The Third Number: 6\n",
      "6 is the largest\n"
     ]
    }
   ],
   "source": [
    "num1=int(input(\"Enter The First Number: \"))\n",
    "num2=int(input(\"Enter The Second Number: \"))\n",
    "num3=int(input(\"Enter The Third Number: \"))\n",
    "if num1==num2==num3:\n",
    "    print(\"All are Equal\")\n",
    "else:\n",
    "    if num1>num2 and num1>num3:\n",
    "        print(f\"{num1} is the largest\")\n",
    "    elif num2>num1 and num2>num3:\n",
    "        print(f\"{num2} is the largest\")\n",
    "    elif num3>num1 and num3>num2:\n",
    "        print(f\"{num3} is the largest\") \n",
    "    else:\n",
    "        print(\"Error\")\n",
    "        \n",
    "    "
   ]
  },
  {
   "cell_type": "markdown",
   "id": "370115fb",
   "metadata": {},
   "source": [
    "### 12. Write a program that prompts the user to input a character and determine the character is vowel or consonant. "
   ]
  },
  {
   "cell_type": "code",
   "execution_count": 16,
   "id": "b2f8c914",
   "metadata": {},
   "outputs": [
    {
     "name": "stdout",
     "output_type": "stream",
     "text": [
      "Enter Any Character: E\n",
      "E is a vowel\n"
     ]
    }
   ],
   "source": [
    "vowels=['a','e','i','o','u']\n",
    "char=input(\"Enter Any Character: \")\n",
    "if char.lower() in vowels:\n",
    "    print(f\"{char} is a vowel\")\n",
    "else:\n",
    "    print(f\"{char} is a consonent\")"
   ]
  },
  {
   "cell_type": "markdown",
   "id": "c778b099",
   "metadata": {},
   "source": [
    "### 13. Write a program that prompts the user to input a year and determine whether the year is a leap year or not. Leap Years are any year that can be evenly divided by 4. A year that is evenly divisible by 100 is a leap year only if it is also evenly divisible by 400. Example: 1992 Leap Year 2000 Leap Year 1900 NOT a Leap Year 1995 NOT a Leap Year"
   ]
  },
  {
   "cell_type": "code",
   "execution_count": 4,
   "id": "9735ec5c",
   "metadata": {},
   "outputs": [
    {
     "name": "stdout",
     "output_type": "stream",
     "text": [
      "Enter Any Year2008\n",
      "2008 is a leap year\n"
     ]
    }
   ],
   "source": [
    "year = int(input(\"Enter Any Year\"))\n",
    "if year%4==0:\n",
    "    print(f\"{year} is a leap year\")\n",
    "else:\n",
    "    print(f\"{year} is not a leap year\")"
   ]
  },
  {
   "cell_type": "markdown",
   "id": "03e654ee",
   "metadata": {},
   "source": [
    "### 14. Write a program that prompts the user to input number of calls and calculate the monthly telephone bills as per the following rule: Minimum Rs. 200 for up to 100 calls. Plus Rs. 0.60 per call for next 50 calls. Plus Rs. 0.50 per call for next 50 calls. Plus Rs. 0.40 per call for any call beyond 200 calls. "
   ]
  },
  {
   "cell_type": "code",
   "execution_count": 13,
   "id": "5de4ed9d",
   "metadata": {},
   "outputs": [
    {
     "name": "stdout",
     "output_type": "stream",
     "text": [
      "Enter The Number Of calls220\n",
      "Your telephone bill is 208.0Rs\n"
     ]
    }
   ],
   "source": [
    "call = int(input(\"Enter The Number Of calls\"))\n",
    "bill=200\n",
    "if call>0 and call<=100:\n",
    "    print(f\"Your telephone bill is {bill}Rs\")\n",
    "elif call>100 and call<=150:\n",
    "    bill = bill + ((call-100)*(0.60))\n",
    "    print(f\"Your telephone bill is {bill}Rs\")\n",
    "elif call>150 and call<=200:\n",
    "    bill = bill + ((call-150)*(0.50))\n",
    "    print(f\"Your telephone bill is {bill}Rs\")\n",
    "elif call>200 :\n",
    "    bill = bill + ((call-200)*(0.40))\n",
    "    print(f\"Your telephone bill is {bill}Rs\")\n",
    "else:\n",
    "    print(\"Error!\")\n",
    "    "
   ]
  },
  {
   "cell_type": "code",
   "execution_count": null,
   "id": "c221f36d",
   "metadata": {},
   "outputs": [],
   "source": []
  }
 ],
 "metadata": {
  "kernelspec": {
   "display_name": "Python 3 (ipykernel)",
   "language": "python",
   "name": "python3"
  },
  "language_info": {
   "codemirror_mode": {
    "name": "ipython",
    "version": 3
   },
   "file_extension": ".py",
   "mimetype": "text/x-python",
   "name": "python",
   "nbconvert_exporter": "python",
   "pygments_lexer": "ipython3",
   "version": "3.11.5"
  }
 },
 "nbformat": 4,
 "nbformat_minor": 5
}
