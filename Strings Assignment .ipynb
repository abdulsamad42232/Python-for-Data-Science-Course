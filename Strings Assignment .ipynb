{
 "cells": [
  {
   "cell_type": "markdown",
   "id": "641d2e56",
   "metadata": {},
   "source": [
    "### 1. Write a program that accepts a string from user. Your program should count and display number of vowels in that string. "
   ]
  },
  {
   "cell_type": "code",
   "execution_count": 13,
   "id": "190d917a",
   "metadata": {},
   "outputs": [
    {
     "name": "stdout",
     "output_type": "stream",
     "text": [
      "Enter String: how are you\n",
      "The Total Number Of Vowles = 5\n",
      "The Total Number Of a = 1\n",
      "The Total Number Of e = 1\n",
      "The Total Number Of i = 0\n",
      "The Total Number Of o = 2\n",
      "The Total Number Of u = 1\n"
     ]
    }
   ],
   "source": [
    "vowels = ['a','e','i','o','u','A','E','I','O','U']\n",
    "string = input(\"Enter String: \")\n",
    "count=0\n",
    "a_count=0\n",
    "e_count=0\n",
    "i_count=0\n",
    "o_count=0\n",
    "u_count=0\n",
    "for a in string:\n",
    "    if a in vowels:\n",
    "        count = count + 1\n",
    "        if a=='a' or a=='A':\n",
    "            a_count = a_count+1\n",
    "        elif a=='e' or a=='E':\n",
    "            e_count = e_count+1\n",
    "        elif a=='i' or a=='I':\n",
    "            i_count = i_count+1\n",
    "        elif a=='o' or a=='O':\n",
    "            o_count = o_count+1\n",
    "        else: \n",
    "            #a=='u' or a=='U':\n",
    "            u_count = u_count+1\n",
    "    \n",
    "    \n",
    "print(f\"The Total Number Of Vowles = {count}\")\n",
    "print(f\"The Total Number Of a = {a_count}\")\n",
    "print(f\"The Total Number Of e = {e_count}\")\n",
    "print(f\"The Total Number Of i = {i_count}\")\n",
    "print(f\"The Total Number Of o = {o_count}\")\n",
    "print(f\"The Total Number Of u = {u_count}\")\n",
    "    \n",
    "    "
   ]
  },
  {
   "cell_type": "markdown",
   "id": "6d27dd84",
   "metadata": {},
   "source": [
    "### 2. Write a program that reads a string from keyboard and display:\n",
    "* The number of uppercase letters in the string \n",
    "* The number of lowercase letters in the string \n",
    "* The number of digits in the string \n",
    "* The number of whitespace characters in the string \n"
   ]
  },
  {
   "cell_type": "code",
   "execution_count": 24,
   "id": "ae889b89",
   "metadata": {},
   "outputs": [
    {
     "name": "stdout",
     "output_type": "stream",
     "text": [
      "Enter String: My name is Samad my roll no. is 22118\n",
      "The Number Of upper case letters in a your string are 2\n",
      "The Number Of lower case letters in a your string are 21\n",
      "The Number Of digits in a your string are 5\n",
      "The Number Of whitespaces in a your string are 8\n"
     ]
    }
   ],
   "source": [
    "string = input(\"Enter String: \")\n",
    "low_count=0\n",
    "dig_count=0\n",
    "space_count=0\n",
    "upper_count=0\n",
    "for i in string:\n",
    "    if i.islower():\n",
    "        low_count += 1\n",
    "    elif i.isupper():\n",
    "        upper_count += 1\n",
    "    elif i.isdigit():\n",
    "        dig_count += 1\n",
    "    elif i.isspace():\n",
    "        space_count += 1\n",
    "    else:\n",
    "        continue\n",
    "print(f\"The Number Of upper case letters in a your string are {upper_count}\")        \n",
    "print(f\"The Number Of lower case letters in a your string are {low_count}\")\n",
    "print(f\"The Number Of digits in a your string are {dig_count}\")\n",
    "print(f\"The Number Of whitespaces in a your string are {space_count}\")\n",
    "\n",
    "        "
   ]
  },
  {
   "cell_type": "markdown",
   "id": "be1ab3ef",
   "metadata": {},
   "source": [
    "### 3. Write a Python program that accepts a string from user. Your program should create and display a new string where the first and last characters have been exchanged. \n"
   ]
  },
  {
   "cell_type": "code",
   "execution_count": 14,
   "id": "827cc975",
   "metadata": {},
   "outputs": [
    {
     "name": "stdout",
     "output_type": "stream",
     "text": [
      "Enter String: samad\n",
      "damas\n"
     ]
    }
   ],
   "source": [
    "string = input(\"Enter String: \")\n",
    "new_string=''\n",
    "for char in string[1:-1:1]:\n",
    "    new_string += char\n",
    "print(string[-1]+new_string+string[0])\n"
   ]
  },
  {
   "cell_type": "markdown",
   "id": "49ee8b76",
   "metadata": {},
   "source": [
    "### 4. Write a Python program that accepts a string from user. Your program should create a new string in reverse of first string and display it. \n",
    "For example if the user enters the string 'EXAM' then new string would be 'MAXE' "
   ]
  },
  {
   "cell_type": "code",
   "execution_count": 16,
   "id": "9c37c136",
   "metadata": {},
   "outputs": [
    {
     "name": "stdout",
     "output_type": "stream",
     "text": [
      "Enter String: EXAM\n"
     ]
    },
    {
     "data": {
      "text/plain": [
       "'MAXE'"
      ]
     },
     "execution_count": 16,
     "metadata": {},
     "output_type": "execute_result"
    }
   ],
   "source": [
    "string = input(\"Enter String: \")\n",
    "new_string=''\n",
    "for char in string[-1::-1]:\n",
    "    new_string += char\n",
    "new_string    "
   ]
  },
  {
   "cell_type": "markdown",
   "id": "9b3c7a2b",
   "metadata": {},
   "source": [
    "# 5. Write a Python program that accepts a string from user. Your program should create a new string by shifting one position to left.\n",
    "For example if the user enters the string 'examination 2021' then new string would be 'xamination 2021e' "
   ]
  },
  {
   "cell_type": "code",
   "execution_count": 2,
   "id": "dc01100a",
   "metadata": {},
   "outputs": [
    {
     "name": "stdout",
     "output_type": "stream",
     "text": [
      "Enter String: examination 2021\n",
      "xamination 2021e\n"
     ]
    }
   ],
   "source": [
    "string = input(\"Enter String: \")\n",
    "new_string=''\n",
    "for char in string[1::1]:\n",
    "    new_string += char\n",
    "print(new_string + string[0])\n",
    "\n",
    "    "
   ]
  },
  {
   "cell_type": "markdown",
   "id": "3a9b5514",
   "metadata": {},
   "source": [
    "### 6. Write a program that asks the user to input his name and print its initials. Assuming that the user always types first name, middle name and last name and does not include any unnecessary spaces.\n",
    "For example, if the user enters Ajay Kumar Garg the program should display A. K. G.\n",
    "Note:Don't use split() method \n"
   ]
  },
  {
   "cell_type": "code",
   "execution_count": 7,
   "id": "43d2946a",
   "metadata": {},
   "outputs": [
    {
     "name": "stdout",
     "output_type": "stream",
     "text": [
      "Enter your full name: Abdul Samad Khan \n",
      "ASK\n"
     ]
    }
   ],
   "source": [
    "string = input(\"Enter your full name: \")\n",
    "new_string=''\n",
    "for char in string:\n",
    "    if char.isupper():\n",
    "        new_string += char\n",
    "print(new_string)        \n",
    "        "
   ]
  },
  {
   "cell_type": "markdown",
   "id": "26524102",
   "metadata": {},
   "source": [
    "### 7. A palindrome is a string that reads the same backward as forward. For example, the words dad, madam and radar are all palindromes. Write a programs that determines whether the string is a palindrome.\n",
    "Note: do not use reverse() method"
   ]
  },
  {
   "cell_type": "code",
   "execution_count": 11,
   "id": "a3fe5911",
   "metadata": {},
   "outputs": [
    {
     "name": "stdout",
     "output_type": "stream",
     "text": [
      "Enter any palindrome: samad\n",
      "The String samad is not a palindrome\n"
     ]
    }
   ],
   "source": [
    "string = input(\"Enter any palindrome: \")\n",
    "reverse=''\n",
    "for char in string[-1::-1]:\n",
    "    reverse += char\n",
    "if string==reverse:\n",
    "    print(f\"The String {string} is a palindrome\")\n",
    "else:\n",
    "    print(f\"The String {string} is not a palindrome\")\n",
    "    "
   ]
  },
  {
   "cell_type": "markdown",
   "id": "ac2204a0",
   "metadata": {},
   "source": [
    "### 8. Write a program that display following output:\n",
    "* SHIFT\n",
    "* HIFTS\n",
    "* IFTSH\n",
    "* FTSHI\n",
    "* TSHIF\n",
    "* SHIFT \n"
   ]
  },
  {
   "cell_type": "code",
   "execution_count": 32,
   "id": "c700af01",
   "metadata": {},
   "outputs": [
    {
     "name": "stdout",
     "output_type": "stream",
     "text": [
      "SHIFT\n",
      "HIFTS\n",
      "IFTSH\n",
      "FTSHI\n",
      "TSHIF\n",
      "SHIFT\n"
     ]
    }
   ],
   "source": [
    "string ='SHIFT'\n",
    "print(string)\n",
    "for char in string:\n",
    "    string = string[1:5:]+string[::5]\n",
    "    print(string)"
   ]
  },
  {
   "cell_type": "markdown",
   "id": "63e81a1f",
   "metadata": {},
   "source": [
    "# 9. Write a program in python that accepts a string to setup a passwords. Your entered password mustmeet the following requirements:\n",
    "* The password must be at least eight characters long.\n",
    "* It must contain at least one uppercase letter.\n",
    "* It must contain at least one lowercase letter.\n",
    "* It must contain at least one numeric digit.\n",
    "* Your program should should perform this validation. "
   ]
  },
  {
   "cell_type": "code",
   "execution_count": 17,
   "id": "da106103",
   "metadata": {},
   "outputs": [
    {
     "name": "stdout",
     "output_type": "stream",
     "text": [
      "\n",
      "The password must be at least eight characters long, one uppercase letter, \n",
      "one lowercase letter and must contain at least one numeric digit.\n",
      "\n",
      "Enter Password: Samadadddd\n",
      "Invalid Password, it must contain atleast one alphabets and atleast one numeric digits\n"
     ]
    }
   ],
   "source": [
    "    upper = False\n",
    "    lower = False\n",
    "    num   = False \n",
    "    alpha = False\n",
    "\n",
    "print('''\n",
    "The password must be at least eight characters long, one uppercase letter, \n",
    "one lowercase letter and must contain at least one numeric digit.\n",
    "''')\n",
    "password = input(\"Enter Password: \")\n",
    "if len(password)>=8:\n",
    "     if password.isalnum():\n",
    "        for char in password:\n",
    "            if char.isalpha():\n",
    "                alpha = True\n",
    "            else:\n",
    "                num = True\n",
    "        if alpha and num:\n",
    "            for char in password:\n",
    "                if char.isupper():\n",
    "                    upper = True\n",
    "                elif char.islower():\n",
    "                    lower = True\n",
    "                else:\n",
    "                    continue\n",
    "            if upper and lower:\n",
    "                print(\"Your Password is Accepted\")\n",
    "            else:\n",
    "                print(\"Invalid Password, it must contain atleast one upper and atleast one lower character\")  \n",
    "        else:\n",
    "            print(\"Invalid Password, it must contain atleast one alphabets and atleast one numeric digits\")\n",
    "     else:\n",
    "        print(\"Invalid Password, it must contain only alphabets and numeric digits\")\n",
    "else:\n",
    "     print(\"Invalid Password, it must be of atleast eight characters\")\n",
    "\n"
   ]
  },
  {
   "cell_type": "code",
   "execution_count": null,
   "id": "40d0047a",
   "metadata": {},
   "outputs": [],
   "source": []
  },
  {
   "cell_type": "code",
   "execution_count": null,
   "id": "04e37483",
   "metadata": {},
   "outputs": [],
   "source": []
  }
 ],
 "metadata": {
  "kernelspec": {
   "display_name": "Python 3 (ipykernel)",
   "language": "python",
   "name": "python3"
  },
  "language_info": {
   "codemirror_mode": {
    "name": "ipython",
    "version": 3
   },
   "file_extension": ".py",
   "mimetype": "text/x-python",
   "name": "python",
   "nbconvert_exporter": "python",
   "pygments_lexer": "ipython3",
   "version": "3.11.5"
  }
 },
 "nbformat": 4,
 "nbformat_minor": 5
}
