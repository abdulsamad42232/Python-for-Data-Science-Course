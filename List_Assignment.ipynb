{
 "cells": [
  {
   "cell_type": "markdown",
   "id": "fb601167",
   "metadata": {},
   "source": [
    "### 1. Write a program that accepts a list from user and print the alternate element of list. "
   ]
  },
  {
   "cell_type": "code",
   "execution_count": 8,
   "id": "021333ce",
   "metadata": {},
   "outputs": [
    {
     "name": "stdout",
     "output_type": "stream",
     "text": [
      "Enter Your List:123456789\n",
      "your list is ['1', '2', '3', '4', '5', '6', '7', '8', '9'] and alternating List is ['1', '3', '5', '7', '9']\n"
     ]
    }
   ],
   "source": [
    "lst = list(input(\"Enter Your List:\"))\n",
    "print(f\"your list is {lst} and alternating List is {lst[::2]}\")\n"
   ]
  },
  {
   "cell_type": "markdown",
   "id": "9ffe2fad",
   "metadata": {},
   "source": [
    "### 2. Write a program that accepts a list from user. Your program should reverse the content of list and display it. Do not use reverse() method"
   ]
  },
  {
   "cell_type": "code",
   "execution_count": 9,
   "id": "78b8cbfa",
   "metadata": {},
   "outputs": [
    {
     "name": "stdout",
     "output_type": "stream",
     "text": [
      "Enter Your List12345\n",
      "your list is ['1', '2', '3', '4', '5'] and alternating List is ['5', '4', '3', '2', '1']\n"
     ]
    }
   ],
   "source": [
    "lst = list(input(\"Enter Your List\"))\n",
    "print(f\"your list is {lst} and alternating List is {lst[::-1]}\")"
   ]
  },
  {
   "cell_type": "markdown",
   "id": "0f17b94f",
   "metadata": {},
   "source": [
    "### 3. Find and display the largest number of a list without using built-in function max(). Your program should ask the user to input values in list from keyboard. "
   ]
  },
  {
   "cell_type": "code",
   "execution_count": 13,
   "id": "684e3e2c",
   "metadata": {},
   "outputs": [
    {
     "data": {
      "text/plain": [
       "48"
      ]
     },
     "execution_count": 13,
     "metadata": {},
     "output_type": "execute_result"
    }
   ],
   "source": [
    "def maxx(lst):\n",
    "    maxx = lst[0]\n",
    "    for i in lst:\n",
    "        if i > maxx:\n",
    "            maxx = i        \n",
    "    return(maxx)\n",
    "maxx([6,1,29,3,48,5])\n",
    "        "
   ]
  },
  {
   "cell_type": "code",
   "execution_count": 18,
   "id": "5fa07c87",
   "metadata": {},
   "outputs": [
    {
     "data": {
      "text/plain": [
       "[3, 4, 5]"
      ]
     },
     "execution_count": 18,
     "metadata": {},
     "output_type": "execute_result"
    }
   ],
   "source": [
    "lst= [1,2,3,4,5]\n",
    "lst[2::]"
   ]
  },
  {
   "cell_type": "markdown",
   "id": "11e87bee",
   "metadata": {},
   "source": [
    "### 4. Write a program that rotates the element of a list so that the element at the first index moves to the second index, the element in the second index moves to the third index, etc., and the element in the last index moves to the first index. \n"
   ]
  },
  {
   "cell_type": "code",
   "execution_count": 35,
   "id": "acf59f56",
   "metadata": {},
   "outputs": [
    {
     "data": {
      "text/plain": [
       "['d', 's', 'a', 'm', 'a']"
      ]
     },
     "execution_count": 35,
     "metadata": {},
     "output_type": "execute_result"
    }
   ],
   "source": [
    "lst = ['s','a','m','a','d']\n",
    "new_lst = []\n",
    "a=0\n",
    "new_lst.append(lst[-1])\n",
    "for index,value in enumerate(lst[:-1:]):\n",
    "    new_lst.append(lst[index])\n",
    "    \n",
    "\n",
    "# print(f\"{index+1}={value}\")\n",
    "\n",
    "new_lst    "
   ]
  },
  {
   "cell_type": "markdown",
   "id": "5b4ca6ef",
   "metadata": {},
   "source": [
    "### 5. Write a program that input a string and ask user to delete a given word from a string. \n"
   ]
  },
  {
   "cell_type": "code",
   "execution_count": 7,
   "id": "57b54eb5",
   "metadata": {},
   "outputs": [
    {
     "name": "stdout",
     "output_type": "stream",
     "text": [
      "Enter Any Stringmy name is samad\n",
      "your string is my name is samad\n",
      "Enter Any word you want to remove from 'my name is samad' :samad\n",
      "your new string is 'my name is '\n"
     ]
    }
   ],
   "source": [
    "string = input(\"Enter Any String\").lower()\n",
    "print(f\"your string is {string}\")\n",
    "str_list = string.split()\n",
    "del_word = input(f\"Enter Any word you want to remove from '{string}' :\").lower()\n",
    "new_str=\"\"\n",
    "if del_word not in str_list:\n",
    "    print(\"The word you entered is not in the string\")\n",
    "else:\n",
    "    for item in str_list:\n",
    "        if del_word == item:\n",
    "            str_list.remove(del_word)\n",
    "        else:\n",
    "            new_str += item\n",
    "            new_str += ' '\n",
    "    print(f\"your new string is '{new_str}'\")            \n",
    "                        \n",
    "            "
   ]
  },
  {
   "cell_type": "code",
   "execution_count": 8,
   "id": "4b8bf2cd",
   "metadata": {},
   "outputs": [
    {
     "data": {
      "text/plain": [
       "['s', 'a', 'm', 'a', 'd']"
      ]
     },
     "execution_count": 8,
     "metadata": {},
     "output_type": "execute_result"
    }
   ],
   "source": [
    "string ='samad'\n",
    "a=list(string)\n",
    "type(a)\n",
    "a"
   ]
  },
  {
   "cell_type": "markdown",
   "id": "692b7f05",
   "metadata": {},
   "source": [
    "### 6. Write a program that reads a string from the user containing a date in the form mm/dd/yyyy. It should print the date in the form March 12, 2021."
   ]
  },
  {
   "cell_type": "code",
   "execution_count": 8,
   "id": "291993a6",
   "metadata": {},
   "outputs": [
    {
     "name": "stdout",
     "output_type": "stream",
     "text": [
      "Enter Date in mm/dd/yyyy08/04/2001\n",
      "August 04, 2001\n"
     ]
    }
   ],
   "source": [
    "date = input(\"Enter Date in mm/dd/yyyy\")\n",
    "count=0\n",
    "months = ['January','February','March','April','May','June','July','August','September','October',\n",
    "'November','December']\n",
    "month=''\n",
    "day=''\n",
    "year=''\n",
    "#dd_count=2\n",
    "for char in date:\n",
    "    if char =='/':\n",
    "        count += 1\n",
    "    elif count ==0:\n",
    "        month += char\n",
    "    elif count ==1:\n",
    "        day += char\n",
    "    else:\n",
    "        year += char\n",
    "month = int(month)-1\n",
    "mm_name = months[month]\n",
    "print(f\"{mm_name} {day}, {year}\")    "
   ]
  },
  {
   "cell_type": "markdown",
   "id": "0cdc83e4",
   "metadata": {},
   "source": [
    "### 7. Write a program with a function that accepts a string from keyboard and create a new string after converting character of each word capitalized. For instance, if the sentence is \"stop and smell the roses.\" the output should be \"Stop And Smell The Roses\" \n"
   ]
  },
  {
   "cell_type": "code",
   "execution_count": 28,
   "id": "ae8bb22e",
   "metadata": {},
   "outputs": [
    {
     "data": {
      "text/plain": [
       "'My Name Is Samad '"
      ]
     },
     "execution_count": 28,
     "metadata": {},
     "output_type": "execute_result"
    }
   ],
   "source": [
    "def Capital(string):\n",
    "    #string = input(\"Enter Any String: \")\n",
    "    new_str=''\n",
    "    str_lst = string.split()\n",
    "    for item in str_lst:\n",
    "        #item = item.capitalize()\n",
    "        new_str += item.capitalize() \n",
    "        new_str +=' '\n",
    "    return new_str\n",
    "Capital('my name is samad')"
   ]
  },
  {
   "cell_type": "markdown",
   "id": "5448cf67",
   "metadata": {},
   "source": [
    "### 8. Find the sum of each row of matrix of size m x n. For example for the following matrix output will be like this :\n",
    "\n",
    "## 2  11  7  12\n",
    "## 5    2    9   15\n",
    "## 8   3  10 42\n",
    "\n",
    "### Sum of row 1 = 32\n",
    "### Sum of row 2 = 31\n",
    "### Sum of row 3 = 63 "
   ]
  },
  {
   "cell_type": "code",
   "execution_count": 29,
   "id": "431412eb",
   "metadata": {},
   "outputs": [
    {
     "name": "stdout",
     "output_type": "stream",
     "text": [
      "\n",
      "sum of row 1 =32\n",
      "sum of row 2 =31\n",
      "sum of row 3 =63\n",
      "\n"
     ]
    }
   ],
   "source": [
    "matrix = [\n",
    "    [2,11,7,12],\n",
    "    [5,2,9,15],\n",
    "    [8,3,10,42]\n",
    "]\n",
    "sum1=0\n",
    "sum2=0\n",
    "sum3=0\n",
    "count=0\n",
    "for row in matrix:\n",
    "    for item in row:\n",
    "            if count==0:\n",
    "                sum1 += item\n",
    "            elif count==1:\n",
    "                sum2 += item \n",
    "            else:\n",
    "                sum3 += item     \n",
    "    count +=1    \n",
    "print(f\"\"\"\n",
    "sum of row 1 ={sum1}\n",
    "sum of row 2 ={sum2}\n",
    "sum of row 3 ={sum3}\n",
    "\"\"\")\n"
   ]
  },
  {
   "cell_type": "markdown",
   "id": "275b1a52",
   "metadata": {},
   "source": [
    "## 9. Write a program to add two matrices of size n x m. \n"
   ]
  },
  {
   "cell_type": "code",
   "execution_count": 20,
   "id": "05cd0f70",
   "metadata": {},
   "outputs": [],
   "source": [
    "def Matrix(rows,columns):\n",
    "      matrix=[]\n",
    "      for i in range(rows):\n",
    "            row_list=[]\n",
    "            for j in range(columns):\n",
    "                item = input(f\"Enter item of row {i+1} and column{j+1}: \")\n",
    "                row_list.append(item)\n",
    "            matrix.append(row_list)\n",
    "      return(matrix)  "
   ]
  },
  {
   "cell_type": "code",
   "execution_count": 21,
   "id": "90c4ceff",
   "metadata": {
    "scrolled": true
   },
   "outputs": [
    {
     "name": "stdout",
     "output_type": "stream",
     "text": [
      "Enter item of row 1 and column1: 2\n",
      "Enter item of row 1 and column2: 2\n",
      "Enter item of row 1 and column3: 2\n",
      "Enter item of row 2 and column1: 2\n",
      "Enter item of row 2 and column2: 2\n",
      "Enter item of row 2 and column3: 2\n",
      "Enter item of row 3 and column1: 2\n",
      "Enter item of row 3 and column2: 2\n",
      "Enter item of row 3 and column3: 2\n",
      "Enter item of row 1 and column1: 3\n",
      "Enter item of row 1 and column2: 3\n",
      "Enter item of row 1 and column3: 3\n",
      "Enter item of row 2 and column1: 3\n",
      "Enter item of row 2 and column2: 3\n",
      "Enter item of row 2 and column3: 3\n",
      "Enter item of row 3 and column1: 3\n",
      "Enter item of row 3 and column2: 3\n",
      "Enter item of row 3 and column3: 3\n"
     ]
    }
   ],
   "source": [
    "matrix_1 = Matrix(3,3)\n",
    "matrix_2 = Matrix(3,3)\n"
   ]
  },
  {
   "cell_type": "code",
   "execution_count": null,
   "id": "d3afc837",
   "metadata": {},
   "outputs": [],
   "source": []
  }
 ],
 "metadata": {
  "kernelspec": {
   "display_name": "Python 3 (ipykernel)",
   "language": "python",
   "name": "python3"
  },
  "language_info": {
   "codemirror_mode": {
    "name": "ipython",
    "version": 3
   },
   "file_extension": ".py",
   "mimetype": "text/x-python",
   "name": "python",
   "nbconvert_exporter": "python",
   "pygments_lexer": "ipython3",
   "version": "3.11.5"
  }
 },
 "nbformat": 4,
 "nbformat_minor": 5
}
